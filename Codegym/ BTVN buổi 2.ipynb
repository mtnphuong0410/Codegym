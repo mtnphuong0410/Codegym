{
 "cells": [
  {
   "cell_type": "code",
   "execution_count": null,
   "id": "b2e1e849",
   "metadata": {},
   "outputs": [],
   "source": [
    "import turtle\n",
    "rua1=turtle.Turtle()\n",
    "rua1.hideturtle()\n",
    "\n",
    "\n",
    "rua1.begin_fill()\n",
    "rua1.color(\"blue\",\"blue\")\n",
    "rua1.fd(120)\n",
    "rua1.left(90)\n",
    "rua1.fd(40)\n",
    "rua1.left(90)\n",
    "rua1.fd(120)\n",
    "rua1.left(90)\n",
    "rua1.fd(40)\n",
    "rua1.left(90)\n",
    "rua1.end_fill()\n",
    "\n",
    "    \n",
    "rua1.begin_fill()\n",
    "rua1.color(\"yellow\",\"yellow\")\n",
    "rua1.right(90)\n",
    "rua1.fd(40)\n",
    "rua1.left(90)\n",
    "rua1.fd(120)\n",
    "rua1.left(90)\n",
    "rua1.fd(40)\n",
    "rua1.end_fill()\n",
    "    \n",
    "turtle.done()\n"
   ]
  },
  {
   "cell_type": "code",
   "execution_count": 1,
   "id": "b3000095",
   "metadata": {},
   "outputs": [],
   "source": [
    "import turtle\n",
    "rua1=turtle.Turtle()\n",
    "\n",
    "for i in range(10):\n",
    "    rua1.fd(80)\n",
    "    rua1.left(36)\n",
    "    \n",
    "turtle.done()"
   ]
  },
  {
   "cell_type": "code",
   "execution_count": null,
   "id": "bb30148e",
   "metadata": {},
   "outputs": [],
   "source": []
  }
 ],
 "metadata": {
  "kernelspec": {
   "display_name": "Python 3 (ipykernel)",
   "language": "python",
   "name": "python3"
  },
  "language_info": {
   "codemirror_mode": {
    "name": "ipython",
    "version": 3
   },
   "file_extension": ".py",
   "mimetype": "text/x-python",
   "name": "python",
   "nbconvert_exporter": "python",
   "pygments_lexer": "ipython3",
   "version": "3.10.3"
  }
 },
 "nbformat": 4,
 "nbformat_minor": 5
}
