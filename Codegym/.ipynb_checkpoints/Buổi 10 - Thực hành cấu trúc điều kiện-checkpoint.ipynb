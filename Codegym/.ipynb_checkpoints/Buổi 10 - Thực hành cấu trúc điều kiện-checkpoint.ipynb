{
 "cells": [
  {
   "cell_type": "markdown",
   "id": "dcdb816e",
   "metadata": {},
   "source": [
    "# Thực hành cấu trúc điều khiển\n",
    "\n",
    "### Bài 1\n",
    "\n",
    "Cho phương trình bậc 2: ax^2 + bx + c = 0\n",
    "\n",
    "Nhập a, b, c\n",
    "\n",
    "Giải và biện luận phương trình trên"
   ]
  },
  {
   "cell_type": "code",
   "execution_count": 24,
   "id": "b5a5c325",
   "metadata": {},
   "outputs": [
    {
     "name": "stdout",
     "output_type": "stream",
     "text": [
      "Nhập vào số a:45\n",
      "Nhập vào số b:45\n",
      "Nhập vào số c:45\n",
      "Phương trình vô nghiệm\n"
     ]
    }
   ],
   "source": [
    "a = float(input(\"Nhập vào số a:\"))\n",
    "b = float(input(\"Nhập vào số b:\"))\n",
    "c = float(input(\"Nhập vào số c:\"))\n",
    "\n",
    "delta = (b**2)-(4*a*c)\n",
    "\n",
    "if delta == 0 :\n",
    "    x1 = -b/(2*a)\n",
    "    x2 == x1\n",
    "    print(\"Phương trình có nghiệm kép\")\n",
    "    print (x1)\n",
    "    print (x2)\n",
    "elif delta > 0 : \n",
    "    print (\"Phương trình có 2 nghiệm\")\n",
    "    x1 = -b+delta**0.5/(2*a)\n",
    "    x2 = -b-delta**0.5/(2*a)\n",
    "    print (x1)\n",
    "    print (x2)\n",
    "else :\n",
    "    print (\"Phương trình vô nghiệm\")"
   ]
  },
  {
   "cell_type": "markdown",
   "id": "6f7d329d",
   "metadata": {},
   "source": [
    "### Bài 2\n",
    "\n",
    "Hãy nhập vào một số\n",
    "\n",
    "Xác định coi đó có phải là số nguyên tố hay không"
   ]
  },
  {
   "cell_type": "code",
   "execution_count": 25,
   "id": "049c85f5",
   "metadata": {},
   "outputs": [
    {
     "name": "stdout",
     "output_type": "stream",
     "text": [
      "Nhập vào 1 số :15\n",
      "Đây không phải là số nguyên tố\n"
     ]
    }
   ],
   "source": [
    "a = int(input(\"Nhập vào số a:\"))\n",
    "dem = 0\n",
    "if a >= 2:\n",
    "    b = 1 #b sẽ tăng từ 1 tới a\n",
    "    for i in range(a):\n",
    "        if a % b == 0:\n",
    "            dem = dem + 1\n",
    "        b = b + 1 \n",
    "    if dem != 2:\n",
    "        print(\"Đây không là số nguyên tố\")\n",
    "    else:\n",
    "        print(\"Đây là số nguyên tố\")\n",
    "else:\n",
    "    print(\"Đây không là số nguyên tố\")"
   ]
  },
  {
   "cell_type": "code",
   "execution_count": null,
   "id": "987db7c9",
   "metadata": {},
   "outputs": [],
   "source": []
  },
  {
   "cell_type": "markdown",
   "id": "75f7717b",
   "metadata": {},
   "source": [
    "### Bài 3\n",
    "\n",
    "Hãy nhập vào số n\n",
    "\n",
    "Hãy đếm số chữ số 0 tận cùng của n giai thừa"
   ]
  },
  {
   "cell_type": "code",
   "execution_count": 26,
   "id": "789e0e76",
   "metadata": {},
   "outputs": [
    {
     "name": "stdout",
     "output_type": "stream",
     "text": [
      "99\n"
     ]
    }
   ],
   "source": []
  },
  {
   "cell_type": "markdown",
   "id": "29cd6c81",
   "metadata": {},
   "source": [
    "### Bài 4\n",
    "\n",
    "In ra tất cả các số chia hết cho 3 nhỏ hơn 100"
   ]
  },
  {
   "cell_type": "code",
   "execution_count": 27,
   "id": "0b848981",
   "metadata": {},
   "outputs": [
    {
     "name": "stdout",
     "output_type": "stream",
     "text": [
      "99\n"
     ]
    }
   ],
   "source": [
    "a=0\n",
    "for i in range(33):\n",
    "   a+=3\n",
    "print (a)"
   ]
  },
  {
   "cell_type": "markdown",
   "id": "04dbf99b",
   "metadata": {},
   "source": [
    "### Bài 5\n",
    "\n",
    "In ra tất cả các số lẻ nhưng không chia hết cho 3 nhỏ hơn 100"
   ]
  },
  {
   "cell_type": "code",
   "execution_count": null,
   "id": "769eb439",
   "metadata": {},
   "outputs": [],
   "source": [
    "a = 0\n",
    "for i in range(100):\n",
    "    a = a + 1\n",
    "    if (a % 2 != 0) and (a % 3 != 0):\n",
    "        print(a)\n",
    "    "
   ]
  },
  {
   "cell_type": "markdown",
   "id": "26dd47fb",
   "metadata": {},
   "source": [
    "### Bài 5\n",
    "\n",
    "Tại một cửa hàng nọ có menu như sau:\n",
    "\n",
    "1. Gà rán giá 35k\n",
    "2. Hamburger giá 50k\n",
    "3. Pesi giá 10k\n",
    "\n",
    "Nhập số lượng món hàng cần mua\n",
    "\n",
    "Tính và in ra tổng giá tiền (hiển thị có dấu chấm mỗi 3 chữ số để người dùng để quan sát)\n",
    "\n",
    "Nếu giá trị đơn hàng trên 2 triệu, giảm 10% cho khách, trên 4 triệu, giảm 15%\n",
    "\n",
    "Tính và in ra tổng giá tiền được giảm (hiển thị có dấu chấm mỗi 3 chữ số để người dùng để quan sát)\n",
    "\n",
    "Tính và in ra tổng giá tiền khách cần trả (hiển thị có dấu chấm mỗi 3 chữ số để người dùng để quan sát)\n",
    "\n",
    "In ra dòng chữ \"Cảm ơn quý khách đã mua hàng\""
   ]
  },
  {
   "cell_type": "code",
   "execution_count": 18,
   "id": "8509df1e",
   "metadata": {
    "scrolled": false
   },
   "outputs": [
    {
     "name": "stdout",
     "output_type": "stream",
     "text": [
      "Gà rán:23\n",
      "Hamburger:23\n",
      "Pepsi:23\n",
      "Được giảm 10%: 196650.0\n",
      "Cần trả: 1966500.0\n",
      "Cám ơn quý khách đã mua hàng\n"
     ]
    }
   ],
   "source": [
    "a = float(input(\"Gà rán:\"))\n",
    "b = float(input(\"Hamburger:\"))\n",
    "c = float(input(\"Pepsi:\"))\n",
    "\n",
    "giaa = 35000\n",
    "giab = 50000\n",
    "giac = 10000\n",
    "\n",
    "giatien = a*giaa + b*giab + c*giac\n",
    "\n",
    "if giatien > 4000000 :\n",
    "    giatien = giatien - giatien*0.15\n",
    "    print (\"Được giảm 15%:\", giatien*0.15)\n",
    "    print (\"Cần trả:\",giatien)\n",
    "elif giatien > 2000000 :\n",
    "    giatien = giatien - giatien*0.1\n",
    "    print (\"Được giảm 10%:\", giatien*0.1)\n",
    "    print (\"Cần trả:\",giatien)\n",
    "else : \n",
    "    print (\"Không được giảm\")\n",
    "    print (\"Cần trả:\",giatien)\n",
    "print (\"Cám ơn quý khách đã mua hàng\")"
   ]
  },
  {
   "cell_type": "code",
   "execution_count": 29,
   "id": "78222bb5",
   "metadata": {},
   "outputs": [
    {
     "name": "stdout",
     "output_type": "stream",
     "text": [
      "Số xuất gà rán:32\n",
      "Số xuất Hamburger:23\n",
      "Số lon Pepsi:21\n"
     ]
    },
    {
     "ename": "TypeError",
     "evalue": "'int' object is not subscriptable",
     "output_type": "error",
     "traceback": [
      "\u001b[0;31m---------------------------------------------------------------------------\u001b[0m",
      "\u001b[0;31mTypeError\u001b[0m                                 Traceback (most recent call last)",
      "\u001b[0;32m/var/folders/px/sbw13j5j2db2q0cw8zxkfxkw0000gn/T/ipykernel_1120/1177966233.py\u001b[0m in \u001b[0;36m<module>\u001b[0;34m\u001b[0m\n\u001b[1;32m     16\u001b[0m         \u001b[0mdem\u001b[0m \u001b[0;34m=\u001b[0m \u001b[0;36m0\u001b[0m\u001b[0;34m\u001b[0m\u001b[0;34m\u001b[0m\u001b[0m\n\u001b[1;32m     17\u001b[0m     \u001b[0mvitri\u001b[0m \u001b[0;34m=\u001b[0m \u001b[0mvitri\u001b[0m \u001b[0;34m-\u001b[0m \u001b[0;36m1\u001b[0m\u001b[0;34m\u001b[0m\u001b[0;34m\u001b[0m\u001b[0m\n\u001b[0;32m---> 18\u001b[0;31m \u001b[0mprint\u001b[0m\u001b[0;34m(\u001b[0m\u001b[0;34m\"Tổng tiền:\"\u001b[0m\u001b[0;34m,\u001b[0m\u001b[0mvitri\u001b[0m\u001b[0;34m[\u001b[0m\u001b[0;34m:\u001b[0m\u001b[0;34m:\u001b[0m\u001b[0;34m-\u001b[0m\u001b[0;36m1\u001b[0m\u001b[0;34m]\u001b[0m\u001b[0;34m)\u001b[0m\u001b[0;34m\u001b[0m\u001b[0;34m\u001b[0m\u001b[0m\n\u001b[0m\u001b[1;32m     19\u001b[0m \u001b[0;34m\u001b[0m\u001b[0m\n\u001b[1;32m     20\u001b[0m \u001b[0;34m\u001b[0m\u001b[0m\n",
      "\u001b[0;31mTypeError\u001b[0m: 'int' object is not subscriptable"
     ]
    }
   ],
   "source": [
    "ga = int(input(\"Số xuất gà rán:\"))\n",
    "ham = int(input(\"Số xuất Hamburger:\"))\n",
    "pesi = int(input(\"Số lon Pepsi:\"))\n",
    "money = ga*35000 + ham*50000 + pesi*10000\n",
    "\n",
    "# VIET DAU PHAY\n",
    "chuoi = str(money)\n",
    "dem = 0\n",
    "vitri = len(chuoi) - 1\n",
    "for i in range(len(chuoi)):\n",
    "    dem = dem + 1\n",
    "    if (dem == 3) and vitri != 0 :\n",
    "        nuatruoc = chuoi[ :vitri]\n",
    "        nuasau = chuoi[vitri: ]\n",
    "        chuoi = nuatruoc + \".\" + nuasau\n",
    "        dem = 0\n",
    "    vitri = vitri - 1\n",
    "print(\"Tổng tiền:\",vitri[::-1])\n",
    "\n",
    "\n",
    "#GIAM GIA\n",
    "if 20000000 < money < 4000000:\n",
    "    money = int(money*0.9) #nếu không int thì định dạng là số thực 8075000.0\n",
    "if money > 4000000:\n",
    "    money = int(money*0.85)\n",
    "\n",
    "# Tổng tiền sau khi đã giảm giá:\n",
    "chuoi = str(money)[::-1]\n",
    "vitri= \"\"\n",
    "for i in range(len(chuoi1)):\n",
    "    s=s+chuoi[i]\n",
    "    if (i+1)%3 == 0:\n",
    "        vitri = vitri + \",\"\n",
    "print(\"Tổng tiền sau khi đã giảm giá:\",vitri[::-1])\n",
    "print(\"Cảm ơn quý khách\")"
   ]
  },
  {
   "cell_type": "markdown",
   "id": "ab10a1ce",
   "metadata": {},
   "source": [
    "### Bài 6\n",
    "\n",
    "Nhập vào chiều cao (cm) và cân nặng (kg), tính số BMI và xét rồi xin kết quả theo dữ liệu sau:\n",
    "\n",
    "- BMI < 16: Gầy cấp độ III\n",
    "- 16 <= BMI < 17:  Gầy cấp độ II\n",
    "- 17<= BMI < 18.5: Gầy cấp độ I\n",
    "- 18.5 <= BMI < 25: Bình thường\n",
    "- 25 <= BMI < 30: Thừa cân\n",
    "- 30 <= BMI < 35 : Béo phì cấp độ I\n",
    "- 35 <= BMI < 40: Béo phì cấp độ II\n",
    "- BMI > 40: Béo phì cấp độ III"
   ]
  },
  {
   "cell_type": "code",
   "execution_count": 23,
   "id": "1058f441",
   "metadata": {},
   "outputs": [
    {
     "name": "stdout",
     "output_type": "stream",
     "text": [
      "Cân nặng:100\n",
      "Chiều cao:160\n",
      "Gầy cấp độ 3\n"
     ]
    }
   ],
   "source": [
    "import math \n",
    "\n",
    "w = float(input(\"Cân nặng:\"))\n",
    "h = float(input(\"Chiều cao:\"))\n",
    "\n",
    "bmi = w/(h*2)\n",
    "\n",
    "if bmi > 40:\n",
    "    print (\"Béo phì cấp độ III\")\n",
    "elif bmi >=35 : \n",
    "    print (\"Béo phì cấp độ II\")\n",
    "elif bmi >= 30:\n",
    "    print (\"Béo phì cấp độ I\")\n",
    "elif bmi >=25:\n",
    "    print (\"Thừa cân\")\n",
    "elif bmi >= 18.5:\n",
    "    print (\"Bình thường\")\n",
    "elif bmi >= 17:\n",
    "    print (\"Gầy cấp độ I\")\n",
    "elif bmi >= 16:\n",
    "    print (\"Gầy cấp độ II\")\n",
    "else :\n",
    "    print (\"Gầy cấp độ 3\")\n",
    "        "
   ]
  },
  {
   "cell_type": "markdown",
   "id": "f7620342",
   "metadata": {},
   "source": [
    "### Bài 7\n",
    "\n",
    "Nhập ngày, tháng, năm. Hãy tính và in ra màn hình kể từ đầu năm đến ngày vừa nhập là bao nhiêu ngày."
   ]
  },
  {
   "cell_type": "code",
   "execution_count": 31,
   "id": "4c57f0a5",
   "metadata": {},
   "outputs": [
    {
     "name": "stdout",
     "output_type": "stream",
     "text": [
      "Nhập ngày: 14\n",
      "Nhập tháng: 6\n",
      "Nhập năm: 2000\n",
      "31\n",
      "60\n",
      "91\n",
      "121\n",
      "152\n",
      "166\n"
     ]
    }
   ],
   "source": [
    "ngay = int(input('Nhập ngày: '))\n",
    "thang = int(input('Nhập tháng: '))\n",
    "nam = int(input('Nhập năm: '))\n",
    "tong = 0\n",
    "if thang < 8:\n",
    "    chaythang = 1\n",
    "    for i in range(thang - 1):\n",
    "        if chaythang == 2:\n",
    "            if nam % 4 == 0:\n",
    "                tong += 29\n",
    "            else:\n",
    "                tong += 28\n",
    "        else:\n",
    "            if chaythang % 2 == 0:\n",
    "                tong += 30\n",
    "            else:\n",
    "                tong += 31\n",
    "        chaythang = chaythang + 1\n",
    "        print(tong)\n",
    "    tong = tong + ngay\n",
    "else:\n",
    "    chaythang = 1\n",
    "    for i in range(7):\n",
    "        if chaythang == 2:\n",
    "            if nam % 4 == 0:\n",
    "                tong += 29\n",
    "            else:\n",
    "                tong += 28\n",
    "        else:\n",
    "            if chaythang % 2 == 0:\n",
    "                tong += 30\n",
    "            else:\n",
    "                tong += 31\n",
    "        chaythang = chaythang + 1\n",
    "    chaythang = 8\n",
    "    for i in range(thang - 7 - 1):\n",
    "        if thang % 2 == 0:\n",
    "            tong += 31\n",
    "        else:\n",
    "            tong += 30\n",
    "    tong = tong + ngay\n",
    "print(tong)"
   ]
  },
  {
   "cell_type": "markdown",
   "id": "7b66d8d5",
   "metadata": {},
   "source": [
    "### Bài 8\n",
    "\n",
    "Dựa vào bài vẽ đồ thị trong buổi học 6\n",
    "\n",
    "Hãy nhập vào 3 dữ liệu a, b, c bất kỳ (số thực)\n",
    "\n",
    "Tính toán và vẽ đồ thị với chiều cao của cột cao nhất là 300 đơn vị"
   ]
  },
  {
   "cell_type": "code",
   "execution_count": null,
   "id": "e950e96c",
   "metadata": {},
   "outputs": [],
   "source": []
  }
 ],
 "metadata": {
  "kernelspec": {
   "display_name": "Python 3 (ipykernel)",
   "language": "python",
   "name": "python3"
  },
  "language_info": {
   "codemirror_mode": {
    "name": "ipython",
    "version": 3
   },
   "file_extension": ".py",
   "mimetype": "text/x-python",
   "name": "python",
   "nbconvert_exporter": "python",
   "pygments_lexer": "ipython3",
   "version": "3.10.0"
  }
 },
 "nbformat": 4,
 "nbformat_minor": 5
}
