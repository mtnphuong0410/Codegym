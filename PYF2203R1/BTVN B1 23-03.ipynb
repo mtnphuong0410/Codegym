{
 "cells": [
  {
   "cell_type": "code",
   "execution_count": 1,
   "id": "a4cc908d",
   "metadata": {},
   "outputs": [],
   "source": [
    "#Bài 1: Hoàn thiện bài tập buổi trước với cách tiếp cận khai báo các biến để lưu trữ các giá trị chuyển động của turtle\n",
    "\n",
    "import turtle\n",
    "rua1=turtle.Turtle()\n",
    "rua1.hideturtle()\n",
    "\n",
    "w=(1200)\n",
    "h=(800)\n",
    "\n",
    "rua1.penup()\n",
    "rua1.backward(200)\n",
    "rua1.pendown()\n",
    "\n",
    "\n",
    "rua1.begin_fill()\n",
    "rua1.color(\"blue\",\"blue\")\n",
    "rua1.fd(w/3)\n",
    "rua1.left(90)\n",
    "rua1.fd(h/6)\n",
    "rua1.left(90)\n",
    "rua1.fd(w/3)\n",
    "rua1.left(90)\n",
    "rua1.fd(h/6)\n",
    "rua1.left(90)\n",
    "rua1.end_fill()\n",
    "\n",
    "    \n",
    "rua1.begin_fill()\n",
    "rua1.color(\"yellow\",\"yellow\")\n",
    "rua1.right(90)\n",
    "rua1.fd(h/6)\n",
    "rua1.left(90)\n",
    "rua1.fd(w/3)\n",
    "rua1.left(90)\n",
    "rua1.fd(h/6)\n",
    "rua1.end_fill()\n",
    "    \n",
    "turtle.done()\n"
   ]
  },
  {
   "cell_type": "code",
   "execution_count": 2,
   "id": "b77ace5f",
   "metadata": {},
   "outputs": [
    {
     "name": "stdout",
     "output_type": "stream",
     "text": [
      "Nhập toạ độ x của A:4\n",
      "Nhập toạ độ y của A:2\n",
      "Nhập toạ độ x của B:6\n",
      "Nhập toạ độ y của B:7\n",
      "Nhập toạ độ x của C:2\n",
      "Nhập toạ độ y của C:8\n",
      "[True] Đây là hình tam giác\n",
      "Tam giác thường\n"
     ]
    }
   ],
   "source": [
    "#bai 2 : Kiểm tra 3 điểm ABC có phải 3 đỉnh tam giác hay không \n",
    "\n",
    "#Khai báo biến \n",
    "xa = float(input (\"Nhập toạ độ x của A:\"))\n",
    "ya = float(input (\"Nhập toạ độ y của A:\"))\n",
    "xb = float(input (\"Nhập toạ độ x của B:\"))\n",
    "yb = float(input (\"Nhập toạ độ y của B:\"))\n",
    "xc = float(input (\"Nhập toạ độ x của C:\"))\n",
    "yc = float(input (\"Nhập toạ độ y của C:\"))\n",
    "\n",
    "#ktra 3 đỉnh tam giác : \n",
    "if xa==xb==xc and ya==yb==yc:\n",
    "    print ([xa!=xb!=xc]and[ya!=yb!=yc],\"Đây không phải tam giác\")\n",
    "\n",
    "else:\n",
    "    print ([xa!=xb!=xc]and[ya!=yb!=yc],\"Đây là hình tam giác\")\n",
    "    #tính 3 cạnh tam giác\n",
    "    a = ((xb-xa)*(xb-xa)+(yb-ya)*(yb-ya))*0.05\n",
    "    b = ((xc-xa)*(xc-xa)+(yc-ya)*(yc-ya))*0.05\n",
    "    c = ((xc-xb)*(xc-xb)+(yc-yb)*(yc-yb))*0.05\n",
    "\n",
    "#kiểm tra tam giác gì\n",
    "    if a+b>c and a+c>b and b+c>a:\n",
    "        if  a*a==b*b+c*c or b*b==a*a+c*c or c*c==a*a+b*b:\n",
    "            print (\"Tam giác vuông\")\n",
    "        if a==b and b==c:\n",
    "            print (\"Tam giác đều\")\n",
    "        elif a==b or a==c or b==c:\n",
    "            print (\"Tam giác cân\")\n",
    "    print (\"Tam giác thường\")"
   ]
  },
  {
   "cell_type": "code",
   "execution_count": null,
   "id": "085385ec",
   "metadata": {},
   "outputs": [],
   "source": []
  }
 ],
 "metadata": {
  "kernelspec": {
   "display_name": "Python 3 (ipykernel)",
   "language": "python",
   "name": "python3"
  },
  "language_info": {
   "codemirror_mode": {
    "name": "ipython",
    "version": 3
   },
   "file_extension": ".py",
   "mimetype": "text/x-python",
   "name": "python",
   "nbconvert_exporter": "python",
   "pygments_lexer": "ipython3",
   "version": "3.10.3"
  }
 },
 "nbformat": 4,
 "nbformat_minor": 5
}
