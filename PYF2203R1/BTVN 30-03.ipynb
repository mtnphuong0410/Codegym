{
 "cells": [
  {
   "cell_type": "code",
   "execution_count": null,
   "id": "e9de024a",
   "metadata": {},
   "outputs": [],
   "source": [
    "#Nhập 3 câu, ktra từ nhạy cảm: sex, racist, violence, child abuse.\n",
    "\n",
    "post = input(\"Bạn đang nghĩ gì thế ?, chia sẻ đi:\")\n",
    "\n",
    "cau = post.split(\".\")\n",
    "\n",
    "#chiacau\n",
    "cau1 = cau[0]\n",
    "cau2 = cau[1]\n",
    "cau3 = cau[2]\n",
    "\n",
    "#ktra từ\n",
    "check1 = cau1.count(\"sex\") or cau1.count(\"racist\") or cau1.count(\"violence\") or cau1.count(\"child abuse\")\n",
    "check2 = cau2.count(\"sex\") or cau2.count(\"racist\") or cau2.count(\"violence\") or cau2.count(\"child abuse\")\n",
    "check3 = cau3.count(\"sex\") or cau3.count(\"racist\") or cau3.count(\"violence\") or cau3.count(\"child abuse\")\n",
    "\n",
    "#Nếu kết quả đếm từ trong từng câu khác 0 thì có chứa từ nhạy cảm, ngược lại ko chứa từ nhạy cảm\n",
    "ketqua = check1 != 0 and check2 != 0 and check3 != 0 \n",
    "\n",
    "print (\"Bài post có chứa từ nhạy cảm để bị block hay không? :\", ketqua)\n",
    "\n",
    "\n",
    "\n",
    "\n"
   ]
  }
 ],
 "metadata": {
  "kernelspec": {
   "display_name": "Python 3 (ipykernel)",
   "language": "python",
   "name": "python3"
  },
  "language_info": {
   "codemirror_mode": {
    "name": "ipython",
    "version": 3
   },
   "file_extension": ".py",
   "mimetype": "text/x-python",
   "name": "python",
   "nbconvert_exporter": "python",
   "pygments_lexer": "ipython3",
   "version": "3.10.3"
  }
 },
 "nbformat": 4,
 "nbformat_minor": 5
}
