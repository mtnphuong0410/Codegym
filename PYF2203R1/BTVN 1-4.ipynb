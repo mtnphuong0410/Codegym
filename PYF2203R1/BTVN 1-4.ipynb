{
 "cells": [
  {
   "cell_type": "code",
   "execution_count": 3,
   "id": "62438f11",
   "metadata": {},
   "outputs": [
    {
     "name": "stdout",
     "output_type": "stream",
     "text": [
      "Nhập số a:5\n",
      "Nhập số b:6\n",
      "Nhập số c:7\n",
      "Ba số vừa nhập không tạo nên 1 bộ số Pytago\n"
     ]
    }
   ],
   "source": [
    "#Bài 1: Nhập vào 3 số tự nhiên, hỏi 3 số đó có tạo nên 1 bộ số Pitago hay không?\n",
    "a= int(input(\"Nhập số a:\"))\n",
    "b= int(input(\"Nhập số b:\"))\n",
    "c= int(input(\"Nhập số c:\"))\n",
    "\n",
    "if a*a + b*b == c*c or a*a + c*c == b*b or b*b + c*c == a*a :\n",
    "    print(\"Ba số vừa nhập tạo nên 1 bộ số Pytago\")\n",
    "else: \n",
    "    print(\"Ba số vừa nhập không tạo nên 1 bộ số Pytago\")"
   ]
  },
  {
   "cell_type": "code",
   "execution_count": 8,
   "id": "2be61a09",
   "metadata": {},
   "outputs": [
    {
     "name": "stdout",
     "output_type": "stream",
     "text": [
      "Nhập vào số phút gọi tháng này: 50\n",
      "Số tiền hộ gia đình phải trả là 55000\n"
     ]
    }
   ],
   "source": [
    "#Bài 2: Viết chương trình để tính cước điện thoại bàn cho một hộ gia đình.\n",
    "#Phí bắt buộc : 25 nghìn, 600 đồng/50 phút đầu, 400 đồng / 150 phút sau, 200 đồng các phút sau \n",
    "\n",
    "a = int(input(\"Nhập vào số phút gọi tháng này: \"))\n",
    "phi = 25000 \n",
    "\n",
    "if a<=50:\n",
    "    sotien = phi + a*600\n",
    "    print (\"Số tiền hộ gia đình phải trả là\", sotien)\n",
    "elif a<=200:\n",
    "    sotien = phi + 50*600 + (a-50)*400\n",
    "    print (\"Số tiền hộ gia đình phải trả là\", sotien)\n",
    "else:\n",
    "    sotien = phi + 50*600 + 150*400 + (a-200)*200\n",
    "    print (\"Số tiền hộ gia đình phải trả là\", sotien)\n"
   ]
  },
  {
   "cell_type": "code",
   "execution_count": 13,
   "id": "c53fed75",
   "metadata": {},
   "outputs": [
    {
     "name": "stdout",
     "output_type": "stream",
     "text": [
      "Nhập số bất kỳ từ 0 đến 6: 9\n",
      "Lỗi dữ liệu đầu vào\n"
     ]
    }
   ],
   "source": [
    "#Bài 3: Nhập 1 số tự nhiên từ 0-6, 0 in ra thứ 2, 1 in ra thứ 3, 6 thì in chủ nhật. Ngoài 0-6 in ra lỗi nhập dữ liệu đầu vào\n",
    "\n",
    "a= int(input(\"Nhập số bất kỳ từ 0 đến 6: \"))\n",
    "\n",
    "if a==0:\n",
    "    print (\"Thứ hai\")\n",
    "elif a==1:\n",
    "    print (\"Thứ ba\")\n",
    "elif a ==2:\n",
    "    print (\"Thứ tư\")\n",
    "elif a==3:\n",
    "    print (\"Thứ năm\")\n",
    "elif a==4:\n",
    "    print (\"Thứ sáu\")\n",
    "elif a==5:\n",
    "    print (\"Thứ bảy\")\n",
    "elif a==6:\n",
    "    print (\"Chủ nhật\")\n",
    "else :\n",
    "    print (\"Lỗi dữ liệu đầu vào\")    "
   ]
  }
 ],
 "metadata": {
  "kernelspec": {
   "display_name": "Python 3 (ipykernel)",
   "language": "python",
   "name": "python3"
  },
  "language_info": {
   "codemirror_mode": {
    "name": "ipython",
    "version": 3
   },
   "file_extension": ".py",
   "mimetype": "text/x-python",
   "name": "python",
   "nbconvert_exporter": "python",
   "pygments_lexer": "ipython3",
   "version": "3.10.2"
  }
 },
 "nbformat": 4,
 "nbformat_minor": 5
}
